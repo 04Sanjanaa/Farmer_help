{
  "nbformat": 4,
  "nbformat_minor": 0,
  "metadata": {
    "colab": {
      "provenance": []
    },
    "kernelspec": {
      "name": "python3",
      "display_name": "Python 3"
    },
    "language_info": {
      "name": "python"
    }
  },
  "cells": [
    {
      "cell_type": "code",
      "execution_count": 1,
      "metadata": {
        "colab": {
          "base_uri": "https://localhost:8080/"
        },
        "id": "3urZZ7gO8ffX",
        "outputId": "65fc9fd4-ef5d-401b-bb35-406dd3d96a02"
      },
      "outputs": [
        {
          "output_type": "stream",
          "name": "stdout",
          "text": [
            "✅ Market data inserted successfully!\n"
          ]
        }
      ],
      "source": [
        "# /agents/market_researcher.py\n",
        "import sqlite3\n",
        "import pandas as pd\n",
        "\n",
        "# Connect to SQLite Database\n",
        "def connect_db():\n",
        "    return sqlite3.connect(\"/content/farming_data.db\")\n",
        "\n",
        "# Load Market Researcher Data\n",
        "market_data = pd.read_csv(\"/content/market_researcher_dataset.csv\")\n",
        "\n",
        "# Ensure column names match the database schema\n",
        "market_data.rename(columns={\n",
        "    'Product': 'crop_name',\n",
        "    'Market_Price_per_ton': 'market_price',\n",
        "    'Demand_Index': 'demand_score',\n",
        "    'Weather_Impact_Score': 'weather_impact'\n",
        "}, inplace=True)\n",
        "\n",
        "# Create table if not exists\n",
        "def create_table():\n",
        "    conn = connect_db()\n",
        "    cursor = conn.cursor()\n",
        "    cursor.execute(\"\"\"\n",
        "        CREATE TABLE IF NOT EXISTS market_data (\n",
        "            id INTEGER PRIMARY KEY AUTOINCREMENT,\n",
        "            crop_name TEXT,\n",
        "            market_price REAL,\n",
        "            demand_score REAL,\n",
        "            weather_impact REAL\n",
        "        )\n",
        "    \"\"\")\n",
        "    conn.commit()\n",
        "    conn.close()\n",
        "\n",
        "# Insert Data into Database\n",
        "def insert_market_data():\n",
        "    create_table()\n",
        "    conn = connect_db()\n",
        "    cursor = conn.cursor()\n",
        "\n",
        "    for _, row in market_data.iterrows():\n",
        "        cursor.execute(\"\"\"\n",
        "            INSERT INTO market_data (crop_name, market_price, demand_score, weather_impact)\n",
        "            VALUES (?, ?, ?, ?)\n",
        "        \"\"\", (\n",
        "            row['crop_name'],\n",
        "            row['market_price'],\n",
        "            row['demand_score'],\n",
        "            row['weather_impact']\n",
        "        ))\n",
        "\n",
        "    conn.commit()\n",
        "    conn.close()\n",
        "    print(\"✅ Market data inserted successfully!\")\n",
        "\n",
        "insert_market_data()\n"
      ]
    }
  ]
}