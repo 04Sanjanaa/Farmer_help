{
  "nbformat": 4,
  "nbformat_minor": 0,
  "metadata": {
    "colab": {
      "provenance": []
    },
    "kernelspec": {
      "name": "python3",
      "display_name": "Python 3"
    },
    "language_info": {
      "name": "python"
    }
  },
  "cells": [
    {
      "cell_type": "code",
      "source": [
        "import requests\n",
        "import time\n",
        "\n",
        "# Get real-time weather data using Open-Meteo API\n",
        "def get_weather(latitude=28.6139, longitude=77.2090, retries=3):\n",
        "    url = f\"https://api.open-meteo.com/v1/forecast?latitude={latitude}&longitude={longitude}&current=temperature_2m,relative_humidity_2m,precipitation\"\n",
        "\n",
        "    for attempt in range(retries):\n",
        "        response = requests.get(url)\n",
        "\n",
        "        if response.status_code == 200:\n",
        "            data = response.json()\n",
        "            try:\n",
        "                temp = data[\"current\"][\"temperature_2m\"]\n",
        "                humidity = data[\"current\"][\"relative_humidity_2m\"]\n",
        "                rainfall = data[\"current\"][\"precipitation\"]\n",
        "                return float(temp), float(humidity), float(rainfall)\n",
        "            except KeyError:\n",
        "                print(\"⚠ Unexpected API response format:\", data)\n",
        "\n",
        "        print(f\"⚠ Attempt {attempt + 1} failed. Retrying in 2 seconds...\")\n",
        "        time.sleep(2)\n",
        "\n",
        "    return None, None, None  # Return None if all attempts fail\n",
        "\n",
        "# Get weather data\n",
        "temperature, humidity, rainfall = get_weather()\n",
        "\n",
        "# Provide irrigation advice only if valid data is available\n",
        "if temperature is not None:\n",
        "    if rainfall < 5:\n",
        "        irrigation_advice = \"💧 Increase irrigation as rainfall is low.\"\n",
        "    elif 5 <= rainfall <= 15:\n",
        "        irrigation_advice = \"🌱 Moderate irrigation is sufficient.\"\n",
        "    else:\n",
        "        irrigation_advice = \"⛔ Reduce irrigation, high rainfall detected.\"\n",
        "\n",
        "    print(f\"🌦 Weather Update: Temp: {temperature}°C, Humidity: {humidity}%, Rainfall: {rainfall}mm\")\n",
        "    print(irrigation_advice)\n",
        "else:\n",
        "    print(\"⚠ Failed to fetch valid weather data after multiple attempts. Please check the API or try again later.\")"
      ],
      "metadata": {
        "colab": {
          "base_uri": "https://localhost:8080/"
        },
        "id": "adRMpqK27tlf",
        "outputId": "7c6430e7-e266-4d5a-8087-c45477c31fb0"
      },
      "execution_count": 5,
      "outputs": [
        {
          "output_type": "stream",
          "name": "stdout",
          "text": [
            "🌦 Weather Update: Temp: 35.5°C, Humidity: 25.0%, Rainfall: 0.0mm\n",
            "💧 Increase irrigation as rainfall is low.\n"
          ]
        }
      ]
    }
  ]
}