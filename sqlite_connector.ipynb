{
  "nbformat": 4,
  "nbformat_minor": 0,
  "metadata": {
    "colab": {
      "provenance": []
    },
    "kernelspec": {
      "name": "python3",
      "display_name": "Python 3"
    },
    "language_info": {
      "name": "python"
    }
  },
  "cells": [
    {
      "cell_type": "code",
      "source": [
        "# /database/sqlite_connector.ipynb\n",
        "import sqlite3\n",
        "\n",
        "# Connect to SQLite Database\n",
        "def connect_db():\n",
        "    conn = sqlite3.connect(\"farming_data.db\")\n",
        "    return conn\n",
        "\n",
        "# Create tables\n",
        "def create_tables():\n",
        "    conn = connect_db()\n",
        "    cursor = conn.cursor()\n",
        "\n",
        "    cursor.execute(\"\"\"\n",
        "        CREATE TABLE IF NOT EXISTS farmer_data (\n",
        "            id INTEGER PRIMARY KEY AUTOINCREMENT,\n",
        "            soil_type TEXT,\n",
        "            rainfall FLOAT,\n",
        "            temperature FLOAT,\n",
        "            fertilizer_used TEXT,\n",
        "            pesticide_used TEXT,\n",
        "            yield_predicted FLOAT,\n",
        "            sustainability_score FLOAT\n",
        "        )\n",
        "    \"\"\")\n",
        "\n",
        "    cursor.execute(\"\"\"\n",
        "        CREATE TABLE IF NOT EXISTS market_data (\n",
        "            id INTEGER PRIMARY KEY AUTOINCREMENT,\n",
        "            crop_name TEXT,\n",
        "            market_price FLOAT,\n",
        "            demand_score FLOAT,\n",
        "            weather_impact FLOAT\n",
        "        )\n",
        "    \"\"\")\n",
        "\n",
        "    conn.commit()\n",
        "    conn.close()\n",
        "\n",
        "# Run table creation\n",
        "create_tables()\n",
        "print(\"✅ Database setup completed!\")"
      ],
      "metadata": {
        "colab": {
          "base_uri": "https://localhost:8080/"
        },
        "id": "adRMpqK27tlf",
        "outputId": "857a68bc-fcab-4240-f855-aa5759b4c55f"
      },
      "execution_count": 4,
      "outputs": [
        {
          "output_type": "stream",
          "name": "stdout",
          "text": [
            "✅ Database setup completed!\n"
          ]
        }
      ]
    }
  ]
}