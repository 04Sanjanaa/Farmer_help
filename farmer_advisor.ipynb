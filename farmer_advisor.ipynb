{
  "nbformat": 4,
  "nbformat_minor": 0,
  "metadata": {
    "colab": {
      "provenance": []
    },
    "kernelspec": {
      "name": "python3",
      "display_name": "Python 3"
    },
    "language_info": {
      "name": "python"
    }
  },
  "cells": [
    {
      "cell_type": "code",
      "execution_count": 1,
      "metadata": {
        "colab": {
          "base_uri": "https://localhost:8080/"
        },
        "id": "xmsAa6h87rtP",
        "outputId": "a886d805-f9ba-4e84-86d4-4a8a79edb6c0"
      },
      "outputs": [
        {
          "output_type": "stream",
          "name": "stdout",
          "text": [
            "✅ Farmer data inserted successfully!\n"
          ]
        }
      ],
      "source": [
        "# /agents/farmer_advisor.py\n",
        "import sqlite3\n",
        "import pandas as pd\n",
        "\n",
        "# Connect to SQLite Database\n",
        "def connect_db():\n",
        "    return sqlite3.connect(\"/content/farming_data.db\")\n",
        "\n",
        "# Load Farmer Advisor Data\n",
        "farmer_data = pd.read_csv(\"/content/farmer_advisor_dataset.csv\")\n",
        "\n",
        "# Rename columns to match the database schema (fix incorrect mappings)\n",
        "farmer_data.rename(columns={\n",
        "    'Soil_pH': 'soil_pH',\n",
        "    'Rainfall_mm': 'rainfall',\n",
        "    'Temperature_C': 'temperature',\n",
        "    'Fertilizer_Usage_kg': 'fertilizer_used',\n",
        "    'Pesticide_Usage_kg': 'pesticide_used',\n",
        "    'Crop_Yield_ton': 'yield_predicted',\n",
        "    'Sustainability_Score': 'sustainability_score'\n",
        "}, inplace=True)\n",
        "\n",
        "# Create table if not exists\n",
        "def create_table():\n",
        "    conn = connect_db()\n",
        "    cursor = conn.cursor()\n",
        "    cursor.execute(\"\"\"\n",
        "        CREATE TABLE IF NOT EXISTS farmer_data (\n",
        "            id INTEGER PRIMARY KEY AUTOINCREMENT,\n",
        "            soil_pH REAL,\n",
        "            rainfall REAL,\n",
        "            temperature REAL,\n",
        "            fertilizer_used REAL,\n",
        "            pesticide_used REAL,\n",
        "            yield_predicted REAL,\n",
        "            sustainability_score REAL\n",
        "        )\n",
        "    \"\"\")\n",
        "    conn.commit()\n",
        "    conn.close()\n",
        "\n",
        "# Insert Data into Database\n",
        "def insert_farmer_data():\n",
        "    create_table()\n",
        "    conn = connect_db()\n",
        "    cursor = conn.cursor()\n",
        "\n",
        "    for _, row in farmer_data.iterrows():\n",
        "        cursor.execute(\"\"\"\n",
        "            INSERT INTO farmer_data (\n",
        "                soil_pH, rainfall, temperature,\n",
        "                fertilizer_used, pesticide_used,\n",
        "                yield_predicted, sustainability_score\n",
        "            ) VALUES (?, ?, ?, ?, ?, ?, ?)\n",
        "        \"\"\", (\n",
        "            row['soil_pH'], row['rainfall'], row['temperature'],\n",
        "            row['fertilizer_used'], row['pesticide_used'],\n",
        "            row['yield_predicted'], row['sustainability_score']\n",
        "        ))\n",
        "\n",
        "    conn.commit()\n",
        "    conn.close()\n",
        "    print(\"✅ Farmer data inserted successfully!\")\n",
        "\n",
        "insert_farmer_data()\n"
      ]
    }
  ]
}